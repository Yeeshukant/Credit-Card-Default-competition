{
  "nbformat": 4,
  "nbformat_minor": 0,
  "metadata": {
    "colab": {
      "name": "cynaptics_club.ipynb",
      "provenance": []
    },
    "kernelspec": {
      "name": "python3",
      "display_name": "Python 3"
    },
    "language_info": {
      "name": "python"
    }
  },
  "cells": [
    {
      "cell_type": "code",
      "metadata": {
        "id": "CzVWxUVbopoj"
      },
      "source": [
        "import pandas as pd\n",
        "import numpy as np\n",
        "import seaborn as sns\n",
        "import matplotlib.pyplot as plt"
      ],
      "execution_count": null,
      "outputs": []
    },
    {
      "cell_type": "code",
      "metadata": {
        "id": "g02LrbvwpJqQ"
      },
      "source": [
        "df=pd.read_csv('/content/drive/MyDrive/others/ML AI/train.csv')"
      ],
      "execution_count": null,
      "outputs": []
    },
    {
      "cell_type": "code",
      "metadata": {
        "colab": {
          "base_uri": "https://localhost:8080/",
          "height": 202
        },
        "id": "kAcPKVubpgQS",
        "outputId": "7406e0fd-bf09-46b2-db1f-1692c4c9d487"
      },
      "source": [
        "df.head()"
      ],
      "execution_count": null,
      "outputs": [
        {
          "output_type": "execute_result",
          "data": {
            "text/html": [
              "<div>\n",
              "<style scoped>\n",
              "    .dataframe tbody tr th:only-of-type {\n",
              "        vertical-align: middle;\n",
              "    }\n",
              "\n",
              "    .dataframe tbody tr th {\n",
              "        vertical-align: top;\n",
              "    }\n",
              "\n",
              "    .dataframe thead th {\n",
              "        text-align: right;\n",
              "    }\n",
              "</style>\n",
              "<table border=\"1\" class=\"dataframe\">\n",
              "  <thead>\n",
              "    <tr style=\"text-align: right;\">\n",
              "      <th></th>\n",
              "      <th>Id</th>\n",
              "      <th>income</th>\n",
              "      <th>age</th>\n",
              "      <th>experience</th>\n",
              "      <th>married</th>\n",
              "      <th>house_ownership</th>\n",
              "      <th>car_ownership</th>\n",
              "      <th>profession</th>\n",
              "      <th>city</th>\n",
              "      <th>state</th>\n",
              "      <th>current_job_years</th>\n",
              "      <th>current_house_years</th>\n",
              "      <th>risk_flag</th>\n",
              "    </tr>\n",
              "  </thead>\n",
              "  <tbody>\n",
              "    <tr>\n",
              "      <th>0</th>\n",
              "      <td>150728</td>\n",
              "      <td>2074419</td>\n",
              "      <td>37</td>\n",
              "      <td>1</td>\n",
              "      <td>single</td>\n",
              "      <td>rented</td>\n",
              "      <td>no</td>\n",
              "      <td>Analyst</td>\n",
              "      <td>Kozhikode</td>\n",
              "      <td>Kerala</td>\n",
              "      <td>1</td>\n",
              "      <td>11</td>\n",
              "      <td>0</td>\n",
              "    </tr>\n",
              "    <tr>\n",
              "      <th>1</th>\n",
              "      <td>148628</td>\n",
              "      <td>3728026</td>\n",
              "      <td>48</td>\n",
              "      <td>17</td>\n",
              "      <td>single</td>\n",
              "      <td>rented</td>\n",
              "      <td>yes</td>\n",
              "      <td>Official</td>\n",
              "      <td>Nanded</td>\n",
              "      <td>Maharashtra</td>\n",
              "      <td>11</td>\n",
              "      <td>12</td>\n",
              "      <td>0</td>\n",
              "    </tr>\n",
              "    <tr>\n",
              "      <th>2</th>\n",
              "      <td>25237</td>\n",
              "      <td>7159687</td>\n",
              "      <td>38</td>\n",
              "      <td>5</td>\n",
              "      <td>single</td>\n",
              "      <td>rented</td>\n",
              "      <td>no</td>\n",
              "      <td>Computer_operator</td>\n",
              "      <td>Jalgaon</td>\n",
              "      <td>Maharashtra</td>\n",
              "      <td>3</td>\n",
              "      <td>11</td>\n",
              "      <td>0</td>\n",
              "    </tr>\n",
              "    <tr>\n",
              "      <th>3</th>\n",
              "      <td>110209</td>\n",
              "      <td>277326</td>\n",
              "      <td>45</td>\n",
              "      <td>9</td>\n",
              "      <td>single</td>\n",
              "      <td>rented</td>\n",
              "      <td>no</td>\n",
              "      <td>Economist</td>\n",
              "      <td>Medininagar</td>\n",
              "      <td>Jharkhand</td>\n",
              "      <td>9</td>\n",
              "      <td>13</td>\n",
              "      <td>0</td>\n",
              "    </tr>\n",
              "    <tr>\n",
              "      <th>4</th>\n",
              "      <td>187462</td>\n",
              "      <td>8822191</td>\n",
              "      <td>26</td>\n",
              "      <td>13</td>\n",
              "      <td>single</td>\n",
              "      <td>rented</td>\n",
              "      <td>no</td>\n",
              "      <td>Aviator</td>\n",
              "      <td>Gorakhpur</td>\n",
              "      <td>Uttar_Pradesh</td>\n",
              "      <td>3</td>\n",
              "      <td>10</td>\n",
              "      <td>1</td>\n",
              "    </tr>\n",
              "  </tbody>\n",
              "</table>\n",
              "</div>"
            ],
            "text/plain": [
              "       Id   income  age  ...  current_job_years current_house_years risk_flag\n",
              "0  150728  2074419   37  ...                  1                  11         0\n",
              "1  148628  3728026   48  ...                 11                  12         0\n",
              "2   25237  7159687   38  ...                  3                  11         0\n",
              "3  110209   277326   45  ...                  9                  13         0\n",
              "4  187462  8822191   26  ...                  3                  10         1\n",
              "\n",
              "[5 rows x 13 columns]"
            ]
          },
          "metadata": {
            "tags": []
          },
          "execution_count": 26
        }
      ]
    },
    {
      "cell_type": "code",
      "metadata": {
        "id": "kKC_ji9p4Cfn"
      },
      "source": [
        "df_test=pd.read_csv('/content/drive/MyDrive/others/ML AI/test.csv')"
      ],
      "execution_count": null,
      "outputs": []
    },
    {
      "cell_type": "code",
      "metadata": {
        "colab": {
          "base_uri": "https://localhost:8080/"
        },
        "id": "axQIjXJQpsy8",
        "outputId": "4b7e4486-ecd6-4e9e-eafe-f59c8764d784"
      },
      "source": [
        "df.info()\n",
        "#checking null values\n",
        "pd.isna(df).sum().sum()"
      ],
      "execution_count": null,
      "outputs": [
        {
          "output_type": "stream",
          "text": [
            "<class 'pandas.core.frame.DataFrame'>\n",
            "RangeIndex: 50000 entries, 0 to 49999\n",
            "Data columns (total 13 columns):\n",
            " #   Column               Non-Null Count  Dtype \n",
            "---  ------               --------------  ----- \n",
            " 0   Id                   50000 non-null  int64 \n",
            " 1   income               50000 non-null  int64 \n",
            " 2   age                  50000 non-null  int64 \n",
            " 3   experience           50000 non-null  int64 \n",
            " 4   married              50000 non-null  object\n",
            " 5   house_ownership      50000 non-null  object\n",
            " 6   car_ownership        50000 non-null  object\n",
            " 7   profession           50000 non-null  object\n",
            " 8   city                 50000 non-null  object\n",
            " 9   state                50000 non-null  object\n",
            " 10  current_job_years    50000 non-null  int64 \n",
            " 11  current_house_years  50000 non-null  int64 \n",
            " 12  risk_flag            50000 non-null  int64 \n",
            "dtypes: int64(7), object(6)\n",
            "memory usage: 5.0+ MB\n"
          ],
          "name": "stdout"
        },
        {
          "output_type": "execute_result",
          "data": {
            "text/plain": [
              "0"
            ]
          },
          "metadata": {
            "tags": []
          },
          "execution_count": 28
        }
      ]
    },
    {
      "cell_type": "markdown",
      "metadata": {
        "id": "e71JGyw3qRZ9"
      },
      "source": [
        "No null values in the data"
      ]
    },
    {
      "cell_type": "code",
      "metadata": {
        "colab": {
          "base_uri": "https://localhost:8080/",
          "height": 293
        },
        "id": "8ilp2tsKtgIZ",
        "outputId": "cdaeac14-d051-4da8-8dc8-a33c08e8f930"
      },
      "source": [
        "df.describe()"
      ],
      "execution_count": null,
      "outputs": [
        {
          "output_type": "execute_result",
          "data": {
            "text/html": [
              "<div>\n",
              "<style scoped>\n",
              "    .dataframe tbody tr th:only-of-type {\n",
              "        vertical-align: middle;\n",
              "    }\n",
              "\n",
              "    .dataframe tbody tr th {\n",
              "        vertical-align: top;\n",
              "    }\n",
              "\n",
              "    .dataframe thead th {\n",
              "        text-align: right;\n",
              "    }\n",
              "</style>\n",
              "<table border=\"1\" class=\"dataframe\">\n",
              "  <thead>\n",
              "    <tr style=\"text-align: right;\">\n",
              "      <th></th>\n",
              "      <th>Id</th>\n",
              "      <th>income</th>\n",
              "      <th>age</th>\n",
              "      <th>experience</th>\n",
              "      <th>current_job_years</th>\n",
              "      <th>current_house_years</th>\n",
              "      <th>risk_flag</th>\n",
              "    </tr>\n",
              "  </thead>\n",
              "  <tbody>\n",
              "    <tr>\n",
              "      <th>count</th>\n",
              "      <td>50000.000000</td>\n",
              "      <td>5.000000e+04</td>\n",
              "      <td>50000.000000</td>\n",
              "      <td>50000.000000</td>\n",
              "      <td>50000.000000</td>\n",
              "      <td>50000.000000</td>\n",
              "      <td>50000.000000</td>\n",
              "    </tr>\n",
              "    <tr>\n",
              "      <th>mean</th>\n",
              "      <td>126057.075940</td>\n",
              "      <td>4.991806e+06</td>\n",
              "      <td>49.980180</td>\n",
              "      <td>10.042140</td>\n",
              "      <td>6.305360</td>\n",
              "      <td>12.001020</td>\n",
              "      <td>0.122840</td>\n",
              "    </tr>\n",
              "    <tr>\n",
              "      <th>std</th>\n",
              "      <td>72714.218241</td>\n",
              "      <td>2.881463e+06</td>\n",
              "      <td>17.066644</td>\n",
              "      <td>5.997867</td>\n",
              "      <td>3.644017</td>\n",
              "      <td>1.399321</td>\n",
              "      <td>0.328257</td>\n",
              "    </tr>\n",
              "    <tr>\n",
              "      <th>min</th>\n",
              "      <td>2.000000</td>\n",
              "      <td>1.031000e+04</td>\n",
              "      <td>21.000000</td>\n",
              "      <td>0.000000</td>\n",
              "      <td>0.000000</td>\n",
              "      <td>10.000000</td>\n",
              "      <td>0.000000</td>\n",
              "    </tr>\n",
              "    <tr>\n",
              "      <th>25%</th>\n",
              "      <td>63457.500000</td>\n",
              "      <td>2.493344e+06</td>\n",
              "      <td>35.000000</td>\n",
              "      <td>5.000000</td>\n",
              "      <td>3.000000</td>\n",
              "      <td>11.000000</td>\n",
              "      <td>0.000000</td>\n",
              "    </tr>\n",
              "    <tr>\n",
              "      <th>50%</th>\n",
              "      <td>126332.000000</td>\n",
              "      <td>4.991059e+06</td>\n",
              "      <td>50.000000</td>\n",
              "      <td>10.000000</td>\n",
              "      <td>6.000000</td>\n",
              "      <td>12.000000</td>\n",
              "      <td>0.000000</td>\n",
              "    </tr>\n",
              "    <tr>\n",
              "      <th>75%</th>\n",
              "      <td>188832.250000</td>\n",
              "      <td>7.475587e+06</td>\n",
              "      <td>65.000000</td>\n",
              "      <td>15.000000</td>\n",
              "      <td>9.000000</td>\n",
              "      <td>13.000000</td>\n",
              "      <td>0.000000</td>\n",
              "    </tr>\n",
              "    <tr>\n",
              "      <th>max</th>\n",
              "      <td>251980.000000</td>\n",
              "      <td>9.999180e+06</td>\n",
              "      <td>79.000000</td>\n",
              "      <td>20.000000</td>\n",
              "      <td>14.000000</td>\n",
              "      <td>14.000000</td>\n",
              "      <td>1.000000</td>\n",
              "    </tr>\n",
              "  </tbody>\n",
              "</table>\n",
              "</div>"
            ],
            "text/plain": [
              "                  Id        income  ...  current_house_years     risk_flag\n",
              "count   50000.000000  5.000000e+04  ...         50000.000000  50000.000000\n",
              "mean   126057.075940  4.991806e+06  ...            12.001020      0.122840\n",
              "std     72714.218241  2.881463e+06  ...             1.399321      0.328257\n",
              "min         2.000000  1.031000e+04  ...            10.000000      0.000000\n",
              "25%     63457.500000  2.493344e+06  ...            11.000000      0.000000\n",
              "50%    126332.000000  4.991059e+06  ...            12.000000      0.000000\n",
              "75%    188832.250000  7.475587e+06  ...            13.000000      0.000000\n",
              "max    251980.000000  9.999180e+06  ...            14.000000      1.000000\n",
              "\n",
              "[8 rows x 7 columns]"
            ]
          },
          "metadata": {
            "tags": []
          },
          "execution_count": 29
        }
      ]
    },
    {
      "cell_type": "code",
      "metadata": {
        "id": "hyMm5X3AqQsn"
      },
      "source": [
        "train_data=df.drop(['Id','risk_flag'], axis=1)\n",
        "label=df.risk_flag"
      ],
      "execution_count": null,
      "outputs": []
    },
    {
      "cell_type": "code",
      "metadata": {
        "colab": {
          "base_uri": "https://localhost:8080/",
          "height": 335
        },
        "id": "yWsce718WHfa",
        "outputId": "4aa703a4-092e-4163-a854-7d83c78552ce"
      },
      "source": [
        "print(label.value_counts()/len(train_data))\n",
        "sns.countplot(x=label)\n",
        "plt.show()"
      ],
      "execution_count": null,
      "outputs": [
        {
          "output_type": "stream",
          "text": [
            "0    0.87716\n",
            "1    0.12284\n",
            "Name: risk_flag, dtype: float64\n"
          ],
          "name": "stdout"
        },
        {
          "output_type": "display_data",
          "data": {
            "image/png": "[encoded data removed]",
            "text/plain": [
              "<Figure size 432x288 with 1 Axes>"
            ]
          },
          "metadata": {
            "tags": [],
            "needs_background": "light"
          }
        }
      ]
    },
    {
      "cell_type": "markdown",
      "metadata": {
        "id": "2NHocPn9iM2d"
      },
      "source": [
        "About 88% not risk flaged and 12% are risk flaged<br>\n",
        "The Classes are imbalanced "
      ]
    },
    {
      "cell_type": "code",
      "metadata": {
        "id": "nbmJqksBuNk5"
      },
      "source": [
        "# Encoding Categorical features\n",
        "cat_cols=['married','house_ownership','car_ownership','profession','city','state']\n",
        "\n",
        "for col in cat_cols:\n",
        "    train_data[col] = train_data[col].apply(lambda x: hash(x))"
      ],
      "execution_count": null,
      "outputs": []
    },
    {
      "cell_type": "code",
      "metadata": {
        "colab": {
          "base_uri": "https://localhost:8080/",
          "height": 222
        },
        "id": "_bepeVuMmo5u",
        "outputId": "5e33d807-5533-483d-aaea-02eaf32b412b"
      },
      "source": [
        "train_data.head()"
      ],
      "execution_count": null,
      "outputs": [
        {
          "output_type": "execute_result",
          "data": {
            "text/html": [
              "<div>\n",
              "<style scoped>\n",
              "    .dataframe tbody tr th:only-of-type {\n",
              "        vertical-align: middle;\n",
              "    }\n",
              "\n",
              "    .dataframe tbody tr th {\n",
              "        vertical-align: top;\n",
              "    }\n",
              "\n",
              "    .dataframe thead th {\n",
              "        text-align: right;\n",
              "    }\n",
              "</style>\n",
              "<table border=\"1\" class=\"dataframe\">\n",
              "  <thead>\n",
              "    <tr style=\"text-align: right;\">\n",
              "      <th></th>\n",
              "      <th>income</th>\n",
              "      <th>age</th>\n",
              "      <th>experience</th>\n",
              "      <th>married</th>\n",
              "      <th>house_ownership</th>\n",
              "      <th>car_ownership</th>\n",
              "      <th>profession</th>\n",
              "      <th>city</th>\n",
              "      <th>state</th>\n",
              "      <th>current_job_years</th>\n",
              "      <th>current_house_years</th>\n",
              "    </tr>\n",
              "  </thead>\n",
              "  <tbody>\n",
              "    <tr>\n",
              "      <th>0</th>\n",
              "      <td>2074419</td>\n",
              "      <td>37</td>\n",
              "      <td>1</td>\n",
              "      <td>4982823278491960959</td>\n",
              "      <td>3923573458535332077</td>\n",
              "      <td>-7123146691958228443</td>\n",
              "      <td>7584166438885860011</td>\n",
              "      <td>-8407167737159496213</td>\n",
              "      <td>-6562184379986711184</td>\n",
              "      <td>1</td>\n",
              "      <td>11</td>\n",
              "    </tr>\n",
              "    <tr>\n",
              "      <th>1</th>\n",
              "      <td>3728026</td>\n",
              "      <td>48</td>\n",
              "      <td>17</td>\n",
              "      <td>4982823278491960959</td>\n",
              "      <td>3923573458535332077</td>\n",
              "      <td>6993158458405298039</td>\n",
              "      <td>-1809231749147453373</td>\n",
              "      <td>3816868724549676001</td>\n",
              "      <td>7757121376097511647</td>\n",
              "      <td>11</td>\n",
              "      <td>12</td>\n",
              "    </tr>\n",
              "    <tr>\n",
              "      <th>2</th>\n",
              "      <td>7159687</td>\n",
              "      <td>38</td>\n",
              "      <td>5</td>\n",
              "      <td>4982823278491960959</td>\n",
              "      <td>3923573458535332077</td>\n",
              "      <td>-7123146691958228443</td>\n",
              "      <td>-3838418463941040132</td>\n",
              "      <td>-1328449136411306314</td>\n",
              "      <td>7757121376097511647</td>\n",
              "      <td>3</td>\n",
              "      <td>11</td>\n",
              "    </tr>\n",
              "    <tr>\n",
              "      <th>3</th>\n",
              "      <td>277326</td>\n",
              "      <td>45</td>\n",
              "      <td>9</td>\n",
              "      <td>4982823278491960959</td>\n",
              "      <td>3923573458535332077</td>\n",
              "      <td>-7123146691958228443</td>\n",
              "      <td>5958495263075722274</td>\n",
              "      <td>-6230267578328156660</td>\n",
              "      <td>1184996349864873707</td>\n",
              "      <td>9</td>\n",
              "      <td>13</td>\n",
              "    </tr>\n",
              "    <tr>\n",
              "      <th>4</th>\n",
              "      <td>8822191</td>\n",
              "      <td>26</td>\n",
              "      <td>13</td>\n",
              "      <td>4982823278491960959</td>\n",
              "      <td>3923573458535332077</td>\n",
              "      <td>-7123146691958228443</td>\n",
              "      <td>2866747513007042170</td>\n",
              "      <td>-1182875715359974610</td>\n",
              "      <td>8484189802291898024</td>\n",
              "      <td>3</td>\n",
              "      <td>10</td>\n",
              "    </tr>\n",
              "  </tbody>\n",
              "</table>\n",
              "</div>"
            ],
            "text/plain": [
              "    income  age  ...  current_job_years  current_house_years\n",
              "0  2074419   37  ...                  1                   11\n",
              "1  3728026   48  ...                 11                   12\n",
              "2  7159687   38  ...                  3                   11\n",
              "3   277326   45  ...                  9                   13\n",
              "4  8822191   26  ...                  3                   10\n",
              "\n",
              "[5 rows x 11 columns]"
            ]
          },
          "metadata": {
            "tags": []
          },
          "execution_count": 33
        }
      ]
    },
    {
      "cell_type": "code",
      "metadata": {
        "colab": {
          "base_uri": "https://localhost:8080/"
        },
        "id": "gdqFS6z0rPKd",
        "outputId": "55a4d886-c447-4498-a1a2-4343f3438f81"
      },
      "source": [
        "# determining the mutual information scores\n",
        "from sklearn.feature_selection import mutual_info_classif\n",
        "mutual_info = mutual_info_classif(train_data,label,discrete_features=True)\n",
        "mutual_info = pd.Series(mutual_info)\n",
        "mutual_info.index = train_data.columns\n",
        "mutual_info.sort_values(ascending=False)"
      ],
      "execution_count": null,
      "outputs": [
        {
          "output_type": "execute_result",
          "data": {
            "text/plain": [
              "income                 0.274218\n",
              "city                   0.013315\n",
              "experience             0.001996\n",
              "age                    0.001612\n",
              "state                  0.001551\n",
              "profession             0.001485\n",
              "current_job_years      0.001298\n",
              "car_ownership          0.000364\n",
              "house_ownership        0.000317\n",
              "married                0.000175\n",
              "current_house_years    0.000055\n",
              "dtype: float64"
            ]
          },
          "metadata": {
            "tags": []
          },
          "execution_count": 34
        }
      ]
    },
    {
      "cell_type": "code",
      "metadata": {
        "colab": {
          "base_uri": "https://localhost:8080/",
          "height": 351
        },
        "id": "8ZUj_TXJQeOH",
        "outputId": "a763cf47-57a9-4b17-a982-05ed36766b02"
      },
      "source": [
        "fig = plt.figure(figsize = (20, 5))\n",
        " \n",
        "plt.bar(train_data.columns, mutual_info , color ='maroon',\n",
        "        width = 0.4)\n",
        " \n",
        "plt.xlabel(\"Features\")\n",
        "plt.ylabel(\"M I Scores\")\n",
        "plt.title(\"M I Scores of Features\")\n",
        "plt.show()"
      ],
      "execution_count": null,
      "outputs": [
        {
          "output_type": "display_data",
          "data": {
            "image/png": "[encoded data removed]",
            "text/plain": [
              "<Figure size 1440x360 with 1 Axes>"
            ]
          },
          "metadata": {
            "tags": [],
            "needs_background": "light"
          }
        }
      ]
    },
    {
      "cell_type": "markdown",
      "metadata": {
        "id": "9jBgaXTCQX_1"
      },
      "source": [
        "Since ```current_house_years``` has very low MI score as well as low std deviation, we will drop this feature as it may not help in classification"
      ]
    },
    {
      "cell_type": "code",
      "metadata": {
        "id": "HzpfH5RxQWVa"
      },
      "source": [
        "train_data=train_data.drop(['current_house_years'], axis=1)\n",
        "features=train_data.columns"
      ],
      "execution_count": null,
      "outputs": []
    },
    {
      "cell_type": "code",
      "metadata": {
        "id": "m2j86LaFSyWV"
      },
      "source": [
        "features=train_data.columns\n",
        "from sklearn.preprocessing import StandardScaler\n",
        "std = StandardScaler()\n",
        "train_data[features] = std.fit_transform(train_data[features])\n",
        "#test_data[features] = std.fit_transform(test_data[features])"
      ],
      "execution_count": null,
      "outputs": []
    },
    {
      "cell_type": "code",
      "metadata": {
        "id": "IUkAcQAIRYlO"
      },
      "source": [
        "# Spliting data for Training and Testing\n",
        "from sklearn.model_selection import train_test_split\n",
        "\n",
        "x_train,x_test,y_train,y_test = train_test_split(train_data,label,test_size = 0.2,random_state=21)"
      ],
      "execution_count": null,
      "outputs": []
    },
    {
      "cell_type": "code",
      "metadata": {
        "colab": {
          "base_uri": "https://localhost:8080/",
          "height": 202
        },
        "id": "ZqmUm7RqU65b",
        "outputId": "fb654b83-7a4d-4d97-f7dd-0df1f66e2a08"
      },
      "source": [
        "x_train.head()"
      ],
      "execution_count": null,
      "outputs": [
        {
          "output_type": "execute_result",
          "data": {
            "text/html": [
              "<div>\n",
              "<style scoped>\n",
              "    .dataframe tbody tr th:only-of-type {\n",
              "        vertical-align: middle;\n",
              "    }\n",
              "\n",
              "    .dataframe tbody tr th {\n",
              "        vertical-align: top;\n",
              "    }\n",
              "\n",
              "    .dataframe thead th {\n",
              "        text-align: right;\n",
              "    }\n",
              "</style>\n",
              "<table border=\"1\" class=\"dataframe\">\n",
              "  <thead>\n",
              "    <tr style=\"text-align: right;\">\n",
              "      <th></th>\n",
              "      <th>income</th>\n",
              "      <th>age</th>\n",
              "      <th>experience</th>\n",
              "      <th>married</th>\n",
              "      <th>house_ownership</th>\n",
              "      <th>car_ownership</th>\n",
              "      <th>profession</th>\n",
              "      <th>city</th>\n",
              "      <th>state</th>\n",
              "      <th>current_job_years</th>\n",
              "    </tr>\n",
              "  </thead>\n",
              "  <tbody>\n",
              "    <tr>\n",
              "      <th>4183</th>\n",
              "      <td>-0.098579</td>\n",
              "      <td>0.938672</td>\n",
              "      <td>-1.007392</td>\n",
              "      <td>-2.968437</td>\n",
              "      <td>0.189785</td>\n",
              "      <td>-0.656618</td>\n",
              "      <td>-0.328876</td>\n",
              "      <td>0.066886</td>\n",
              "      <td>0.983565</td>\n",
              "      <td>-0.632649</td>\n",
              "    </tr>\n",
              "    <tr>\n",
              "      <th>18443</th>\n",
              "      <td>1.712532</td>\n",
              "      <td>-1.229321</td>\n",
              "      <td>-1.007392</td>\n",
              "      <td>0.336878</td>\n",
              "      <td>0.189785</td>\n",
              "      <td>-0.656618</td>\n",
              "      <td>0.304005</td>\n",
              "      <td>-1.647065</td>\n",
              "      <td>-0.325178</td>\n",
              "      <td>-0.907074</td>\n",
              "    </tr>\n",
              "    <tr>\n",
              "      <th>26332</th>\n",
              "      <td>0.971227</td>\n",
              "      <td>-0.936349</td>\n",
              "      <td>1.160067</td>\n",
              "      <td>0.336878</td>\n",
              "      <td>0.189785</td>\n",
              "      <td>-0.656618</td>\n",
              "      <td>0.845937</td>\n",
              "      <td>0.897613</td>\n",
              "      <td>0.626461</td>\n",
              "      <td>0.465052</td>\n",
              "    </tr>\n",
              "    <tr>\n",
              "      <th>39816</th>\n",
              "      <td>-0.689015</td>\n",
              "      <td>-1.522293</td>\n",
              "      <td>0.159702</td>\n",
              "      <td>0.336878</td>\n",
              "      <td>-5.832152</td>\n",
              "      <td>-0.656618</td>\n",
              "      <td>-0.645018</td>\n",
              "      <td>-0.220074</td>\n",
              "      <td>0.961138</td>\n",
              "      <td>1.288327</td>\n",
              "    </tr>\n",
              "    <tr>\n",
              "      <th>21627</th>\n",
              "      <td>0.199488</td>\n",
              "      <td>-0.643377</td>\n",
              "      <td>0.826612</td>\n",
              "      <td>0.336878</td>\n",
              "      <td>0.189785</td>\n",
              "      <td>-0.656618</td>\n",
              "      <td>0.768660</td>\n",
              "      <td>0.786203</td>\n",
              "      <td>1.090859</td>\n",
              "      <td>0.190627</td>\n",
              "    </tr>\n",
              "  </tbody>\n",
              "</table>\n",
              "</div>"
            ],
            "text/plain": [
              "         income       age  experience  ...      city     state  current_job_years\n",
              "4183  -0.098579  0.938672   -1.007392  ...  0.066886  0.983565          -0.632649\n",
              "18443  1.712532 -1.229321   -1.007392  ... -1.647065 -0.325178          -0.907074\n",
              "26332  0.971227 -0.936349    1.160067  ...  0.897613  0.626461           0.465052\n",
              "39816 -0.689015 -1.522293    0.159702  ... -0.220074  0.961138           1.288327\n",
              "21627  0.199488 -0.643377    0.826612  ...  0.786203  1.090859           0.190627\n",
              "\n",
              "[5 rows x 10 columns]"
            ]
          },
          "metadata": {
            "tags": []
          },
          "execution_count": 39
        }
      ]
    },
    {
      "cell_type": "code",
      "metadata": {
        "colab": {
          "base_uri": "https://localhost:8080/"
        },
        "id": "F3dGMPLmf2UG",
        "outputId": "8a6bc1ea-4ebb-477e-a384-cff6efa71c47"
      },
      "source": [
        "from sklearn.ensemble import RandomForestClassifier\n",
        "from sklearn.metrics import precision_score,recall_score,accuracy_score,f1_score,roc_curve,auc,confusion_matrix,roc_auc_score\n",
        "# Very unbalanced data therefore we balance the class weights\n",
        "clf = RandomForestClassifier(n_estimators=150,n_jobs=-1,class_weight='balanced')\n",
        "clf.fit(x_train, y_train)\n",
        "y_score = clf.predict_proba(x_test)\n",
        "roc_auc_score = roc_auc_score(y_test,y_score[:,1])\n",
        "print(roc_auc_score)\n",
        "y_pred = clf.predict(x_test)\n",
        "print(confusion_matrix(y_test, y_pred))\n",
        "prec = precision_score(y_test, y_pred, average = 'weighted')\n",
        "recall = recall_score(y_test, y_pred, average = 'weighted')\n",
        "print(\"Precision: %s, Recall: %s\" %(prec, recall))"
      ],
      "execution_count": null,
      "outputs": [
        {
          "output_type": "stream",
          "text": [
            "0.9249199721936192\n",
            "[[8101  655]\n",
            " [ 383  861]]\n",
            "Precision: 0.9067240675292556, Recall: 0.8962\n"
          ],
          "name": "stdout"
        }
      ]
    },
    {
      "cell_type": "code",
      "metadata": {
        "colab": {
          "base_uri": "https://localhost:8080/",
          "height": 377
        },
        "id": "-MpwrZx2UAbd",
        "outputId": "d1b81b10-0283-4d68-caf1-95f92c8be860"
      },
      "source": [
        "! pip install -q scikit-plot\n",
        "import scikitplot as skplt\n",
        "\n",
        "skplt.metrics.plot_confusion_matrix(\n",
        "    y_test, \n",
        "    y_pred,\n",
        "    figsize=(6,6))"
      ],
      "execution_count": null,
      "outputs": [
        {
          "output_type": "execute_result",
          "data": {
            "text/plain": [
              "<matplotlib.axes._subplots.AxesSubplot at 0x7fdb7ec9d3d0>"
            ]
          },
          "metadata": {
            "tags": []
          },
          "execution_count": 41
        },
        {
          "output_type": "display_data",
          "data": {
            "image/png": "[encoded data removed]",
            "text/plain": [
              "<Figure size 432x432 with 2 Axes>"
            ]
          },
          "metadata": {
            "tags": [],
            "needs_background": "light"
          }
        }
      ]
    },
    {
      "cell_type": "code",
      "metadata": {
        "colab": {
          "base_uri": "https://localhost:8080/",
          "height": 351
        },
        "id": "EHN_ayg7I-in",
        "outputId": "04fb4c4a-bda1-4f1c-d1c8-38db8d6d25f2"
      },
      "source": [
        "feature_imp=clf.feature_importances_\n",
        "fig = plt.figure(figsize = (20, 5))\n",
        " \n",
        "plt.bar(train_data.columns,feature_imp , color ='maroon',\n",
        "        width = 0.4)\n",
        " \n",
        "plt.xlabel(\"Features\")\n",
        "plt.ylabel(\"Importance\")\n",
        "plt.title(\"Features Importance\")\n",
        "plt.show()"
      ],
      "execution_count": null,
      "outputs": [
        {
          "output_type": "display_data",
          "data": {
            "image/png": "[encoded data removed]",
            "text/plain": [
              "<Figure size 1440x360 with 1 Axes>"
            ]
          },
          "metadata": {
            "tags": [],
            "needs_background": "light"
          }
        }
      ]
    },
    {
      "cell_type": "code",
      "metadata": {
        "colab": {
          "base_uri": "https://localhost:8080/"
        },
        "id": "xiR6-2aGJ1oZ",
        "outputId": "c558245d-d44d-4515-f467-a6a96a43a639"
      },
      "source": [
        "clf.get_params"
      ],
      "execution_count": null,
      "outputs": [
        {
          "output_type": "execute_result",
          "data": {
            "text/plain": [
              "<bound method BaseEstimator.get_params of RandomForestClassifier(bootstrap=True, ccp_alpha=0.0, class_weight='balanced',\n",
              "                       criterion='gini', max_depth=None, max_features='auto',\n",
              "                       max_leaf_nodes=None, max_samples=None,\n",
              "                       min_impurity_decrease=0.0, min_impurity_split=None,\n",
              "                       min_samples_leaf=1, min_samples_split=2,\n",
              "                       min_weight_fraction_leaf=0.0, n_estimators=150,\n",
              "                       n_jobs=-1, oob_score=False, random_state=None, verbose=0,\n",
              "                       warm_start=False)>"
            ]
          },
          "metadata": {
            "tags": []
          },
          "execution_count": 43
        }
      ]
    },
    {
      "cell_type": "code",
      "metadata": {
        "colab": {
          "base_uri": "https://localhost:8080/",
          "height": 220
        },
        "id": "xWZ50iAZ4d8S",
        "outputId": "d7e85c04-0b58-4c34-862a-32a3ef5134fa"
      },
      "source": [
        "test_data=df_test.drop(['Id','current_house_years'], axis=1)\n",
        "for col in cat_cols:\n",
        "    test_data[col] = test_data[col].apply(lambda x: hash(x))\n",
        "test_data[features] = std.transform(test_data[features])\n",
        "\n",
        "predictions = clf.predict(test_data)\n",
        "print(predictions)\n",
        "submission = pd.DataFrame({'Id':df_test['Id'],'risk_flag':predictions})\n",
        "submission.head()"
      ],
      "execution_count": null,
      "outputs": [
        {
          "output_type": "stream",
          "text": [
            "[0 0 0 ... 1 1 0]\n"
          ],
          "name": "stdout"
        },
        {
          "output_type": "execute_result",
          "data": {
            "text/html": [
              "<div>\n",
              "<style scoped>\n",
              "    .dataframe tbody tr th:only-of-type {\n",
              "        vertical-align: middle;\n",
              "    }\n",
              "\n",
              "    .dataframe tbody tr th {\n",
              "        vertical-align: top;\n",
              "    }\n",
              "\n",
              "    .dataframe thead th {\n",
              "        text-align: right;\n",
              "    }\n",
              "</style>\n",
              "<table border=\"1\" class=\"dataframe\">\n",
              "  <thead>\n",
              "    <tr style=\"text-align: right;\">\n",
              "      <th></th>\n",
              "      <th>Id</th>\n",
              "      <th>risk_flag</th>\n",
              "    </tr>\n",
              "  </thead>\n",
              "  <tbody>\n",
              "    <tr>\n",
              "      <th>0</th>\n",
              "      <td>144036</td>\n",
              "      <td>0</td>\n",
              "    </tr>\n",
              "    <tr>\n",
              "      <th>1</th>\n",
              "      <td>166701</td>\n",
              "      <td>0</td>\n",
              "    </tr>\n",
              "    <tr>\n",
              "      <th>2</th>\n",
              "      <td>238331</td>\n",
              "      <td>0</td>\n",
              "    </tr>\n",
              "    <tr>\n",
              "      <th>3</th>\n",
              "      <td>144552</td>\n",
              "      <td>0</td>\n",
              "    </tr>\n",
              "    <tr>\n",
              "      <th>4</th>\n",
              "      <td>203146</td>\n",
              "      <td>0</td>\n",
              "    </tr>\n",
              "  </tbody>\n",
              "</table>\n",
              "</div>"
            ],
            "text/plain": [
              "       Id  risk_flag\n",
              "0  144036          0\n",
              "1  166701          0\n",
              "2  238331          0\n",
              "3  144552          0\n",
              "4  203146          0"
            ]
          },
          "metadata": {
            "tags": []
          },
          "execution_count": 44
        }
      ]
    },
    {
      "cell_type": "code",
      "metadata": {
        "id": "MTgsdSzezEeM"
      },
      "source": [
        "submission.to_csv('file1.csv', index=False)"
      ],
      "execution_count": null,
      "outputs": []
    }
  ]
}